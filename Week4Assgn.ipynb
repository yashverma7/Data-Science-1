{
  "nbformat": 4,
  "nbformat_minor": 0,
  "metadata": {
    "colab": {
      "name": "Week4Assgn.ipynb",
      "provenance": []
    },
    "kernelspec": {
      "name": "python3",
      "display_name": "Python 3"
    }
  },
  "cells": [
    {
      "cell_type": "markdown",
      "metadata": {
        "id": "SiBir5qmQOoW"
      },
      "source": [
        "#My Jupyter Notebook on IBM Watson Studio\r\n",
        "\r\n",
        "**Thomas George Thomas**\r\n",
        "\r\n",
        "Data Scientist\r\n",
        "\r\n",
        "*I am interested in Data Science because I would love to contribute towards affordable and quality healthcare in the future.*\r\n",
        "\r\n",
        "##The below should print 'Hello World'\r\n",
        "\r\n"
      ]
    },
    {
      "cell_type": "code",
      "metadata": {
        "colab": {
          "base_uri": "https://localhost:8080/"
        },
        "id": "p3GDlG2MQIoS",
        "outputId": "e16751c0-8b50-46a5-8424-1bf5dea28c92"
      },
      "source": [
        "print(\"Hello World!\")"
      ],
      "execution_count": 1,
      "outputs": [
        {
          "output_type": "stream",
          "text": [
            "Hello World!\n"
          ],
          "name": "stdout"
        }
      ]
    }
  ]
}